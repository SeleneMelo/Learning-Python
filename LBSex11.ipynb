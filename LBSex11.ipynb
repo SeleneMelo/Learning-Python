{
  "nbformat": 4,
  "nbformat_minor": 0,
  "metadata": {
    "colab": {
      "provenance": [],
      "authorship_tag": "ABX9TyNTA/btsDpif/Y/Xw3ilRyj",
      "include_colab_link": true
    },
    "kernelspec": {
      "name": "python3",
      "display_name": "Python 3"
    },
    "language_info": {
      "name": "python"
    }
  },
  "cells": [
    {
      "cell_type": "markdown",
      "metadata": {
        "id": "view-in-github",
        "colab_type": "text"
      },
      "source": [
        "<a href=\"https://colab.research.google.com/github/SeleneMelo/Learning-Python/blob/master/LBSex11.ipynb\" target=\"_parent\"><img src=\"https://colab.research.google.com/assets/colab-badge.svg\" alt=\"Open In Colab\"/></a>"
      ]
    },
    {
      "cell_type": "code",
      "execution_count": null,
      "metadata": {
        "id": "ws4gKgtyBZVu"
      },
      "outputs": [],
      "source": [
        "def extrai_CA(input_arq, output_arq):\n",
        "  with open(input_arq, 'r') as arq_pdb:\n",
        "    linhas = arq_pdb.readlines()\n",
        "\n",
        "  linhas_atomos_CA = []\n",
        "  for line in linhas:\n",
        "    if line.startswith('ATOM') and line[12:16].strip() == 'CA':\n",
        "      atomos_CA.append(line)\n",
        "\n",
        "  with open(output_arq, 'w') as arq_csv:\n",
        "    for line in linhas_atomos_CA:\n",
        "      nome_residuo = line[17:20].strip()\n",
        "      posicao_residuo = line[22:26].strip()\n",
        "      cadeia_id = line[21]\n",
        "      x = line[30:38].strip()\n",
        "      y = line[38:46].strip()\n",
        "      z = line[46:54].strip()\n",
        "      arq_csv.write(f'{nome_residuo}-{posicao_residuo}-{cadeia_id},{x},{y},{z}\\n')\n",
        "\n",
        "input_file = input(\"Digite o caminho do arquivo PDB de entrada: \")\n",
        "output_file = input(\"Digite o caminho do arquivo CSV de saída: \")\n",
        "\n",
        "extrair_CA(input_arq, output_arq)\n",
        "\n",
        "\n",
        "\n"
      ]
    }
  ]
}