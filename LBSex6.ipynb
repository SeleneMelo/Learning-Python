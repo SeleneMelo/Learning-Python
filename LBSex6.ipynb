{
  "nbformat": 4,
  "nbformat_minor": 0,
  "metadata": {
    "colab": {
      "provenance": [],
      "authorship_tag": "ABX9TyMO/85vUQpglOJDiNUKzxfD",
      "include_colab_link": true
    },
    "kernelspec": {
      "name": "python3",
      "display_name": "Python 3"
    },
    "language_info": {
      "name": "python"
    }
  },
  "cells": [
    {
      "cell_type": "markdown",
      "metadata": {
        "id": "view-in-github",
        "colab_type": "text"
      },
      "source": [
        "<a href=\"https://colab.research.google.com/github/SeleneMelo/Learning-Python/blob/master/LBSex6.ipynb\" target=\"_parent\"><img src=\"https://colab.research.google.com/assets/colab-badge.svg\" alt=\"Open In Colab\"/></a>"
      ]
    },
    {
      "cell_type": "code",
      "execution_count": 8,
      "metadata": {
        "colab": {
          "base_uri": "https://localhost:8080/"
        },
        "id": "LntHCKvevitW",
        "outputId": "fa1aea91-b17c-4e3a-f50d-b9174a4d5946"
      },
      "outputs": [
        {
          "output_type": "stream",
          "name": "stdout",
          "text": [
            "Digite o caminho para o arquivo FASTA: arquivo.fasta\n",
            "Digite o caminho para o arquivo de saída: arquivo1.fasta\n",
            "A sequência de proteína foi salva com sucesso no arquivo de saída.\n",
            "MVQRLR\n"
          ]
        }
      ],
      "source": [
        "#Traducao: DNA -> RNA -> Proteina\n",
        "\n",
        "#Lê o arquivo de entrada FASTA e salva as sequencias\n",
        "def le_fasta(caminho_fasta):\n",
        "  sequencia = \"\"\n",
        "  with open(\"arquivo.fasta\", \"r\") as entrada:\n",
        "    for linha in entrada:\n",
        "      linha = linha.strip() #para remover espaço em branco e quebra de linha\n",
        "      if not linha.startswith(\">\"): #ignora linha começada com >\n",
        "        sequencia += linha \n",
        "  return(linha)\n",
        "\n",
        "#Transcricao\n",
        "def transcricao(sequencia_dna):\n",
        "  sequencia_rna = sequencia_dna.replace(\"T\", \"U\")\n",
        "  return sequencia_rna \n",
        "\n",
        "#Traducao\n",
        "def traducao(sequencia_rna):\n",
        "  dic_codons = {\n",
        "    \"UUU\": \"F\", \"UUC\": \"F\", \"UUA\": \"L\", \"UUG\": \"L\",\n",
        "    \"UCU\": \"S\", \"UCC\": \"S\", \"UCA\": \"S\", \"UCG\": \"S\",\n",
        "    \"UAU\": \"Y\", \"UAC\": \"Y\", \"UAA\": \"*\", \"UAG\": \"*\",\n",
        "    \"UGU\": \"C\", \"UGC\": \"C\", \"UGA\": \"*\", \"UGG\": \"W\",\n",
        "    \"CUU\": \"L\", \"CUC\": \"L\", \"CUA\": \"L\", \"CUG\": \"L\",\n",
        "    \"CCU\": \"P\", \"CCC\": \"P\", \"CCA\": \"P\", \"CCG\": \"P\",\n",
        "    \"CAU\": \"H\", \"CAC\": \"H\", \"CAA\": \"Q\", \"CAG\": \"Q\",\n",
        "    \"CGU\": \"R\", \"CGC\": \"R\", \"CGA\": \"R\", \"CGG\": \"R\",\n",
        "    \"AUU\": \"I\", \"AUC\": \"I\", \"AUA\": \"I\", \"AUG\": \"M\",\n",
        "    \"ACU\": \"T\", \"ACC\": \"T\", \"ACA\": \"T\", \"ACG\": \"T\",\n",
        "    \"AAU\": \"N\", \"AAC\": \"N\", \"AAA\": \"K\", \"AAG\": \"K\",\n",
        "    \"AGU\": \"S\", \"AGC\": \"S\", \"AGA\": \"R\", \"AGG\": \"R\",\n",
        "    \"GUU\": \"V\", \"GUC\": \"V\", \"GUA\": \"V\", \"GUG\": \"V\",\n",
        "    \"GCU\": \"A\", \"GCC\": \"A\", \"GCA\": \"A\", \"GCG\": \"A\",\n",
        "    \"GAU\": \"D\", \"GAC\": \"D\", \"GAA\": \"E\", \"GAG\": \"E\",\n",
        "    \"GGU\": \"G\", \"GGC\": \"G\", \"GGA\": \"G\", \"GGG\": \"G\"\n",
        "  }\n",
        "\n",
        "  proteina = \"\"\n",
        "  for i in range(0, len(sequencia_rna) - 2, 3):\n",
        "        codon = sequencia_rna[i:i + 3]\n",
        "        aminoacido = dic_codons.get(codon, \"\")\n",
        "        if aminoacido == \"*\":\n",
        "            break\n",
        "        proteina += aminoacido\n",
        "  return proteina\n",
        "\n",
        "\n",
        "input_file = input(\"Digite o caminho para o arquivo FASTA: \")\n",
        "\n",
        "sequencia_dna = le_fasta(input_file)\n",
        "\n",
        "# Verificar se a sequência de DNA está vazia\n",
        "if sequencia_dna:\n",
        "    # Transcrever a sequência de DNA para RNA\n",
        "    sequencia_rna = transcricao(sequencia_dna)\n",
        "\n",
        "    # Traduzir a sequência de RNA em uma sequência de proteína\n",
        "    sequencia_proteina = traducao(sequencia_rna)\n",
        "\n",
        "    output_file = input(\"Digite o caminho para o arquivo de saída: \")\n",
        "\n",
        "    # Salvar a sequência de proteína no arquivo de saída\n",
        "    with open(output_file, \"w\") as saida:\n",
        "        saida.write(sequencia_proteina)\n",
        "\n",
        "    #teste\n",
        "    print(\"A sequência de proteína foi salva com sucesso no arquivo de saída.\")\n",
        "    print(sequencia_proteina)\n",
        "\n",
        "\n"
      ]
    }
  ]
}