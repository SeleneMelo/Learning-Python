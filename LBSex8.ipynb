{
  "nbformat": 4,
  "nbformat_minor": 0,
  "metadata": {
    "colab": {
      "provenance": [],
      "authorship_tag": "ABX9TyOZOZ0M16Ds4vUF9yTUncOZ",
      "include_colab_link": true
    },
    "kernelspec": {
      "name": "python3",
      "display_name": "Python 3"
    },
    "language_info": {
      "name": "python"
    }
  },
  "cells": [
    {
      "cell_type": "markdown",
      "metadata": {
        "id": "view-in-github",
        "colab_type": "text"
      },
      "source": [
        "<a href=\"https://colab.research.google.com/github/SeleneMelo/Learning-Python/blob/master/LBSex8.ipynb\" target=\"_parent\"><img src=\"https://colab.research.google.com/assets/colab-badge.svg\" alt=\"Open In Colab\"/></a>"
      ]
    },
    {
      "cell_type": "code",
      "execution_count": null,
      "metadata": {
        "id": "h4uhRdtCEwbv"
      },
      "outputs": [],
      "source": [
        "def le_pdb(caminho_arq_pdb, caminho_arq_fasta):\n",
        "  sequencia = \"\"\n",
        "\n",
        "  #abre o arquivo e extrai a informacao relevante \n",
        "  with open(caminho_arq_pdb, 'r') as arq_pdb:\n",
        "    for linha in arq_pdb:\n",
        "      if linha.startswith('ATOM'):\n",
        "        #extrai o codigo de 3 letras no campo [17:20]\n",
        "        nome_residuo = linha[17:20].strip()\n",
        "\n",
        "        dic_amnoacido = {\n",
        "            'ALA': 'A',\n",
        "            'ARG': 'R',\n",
        "            'ASN': 'N',\n",
        "            'ASP': 'D',\n",
        "            'CYS': 'C',\n",
        "            'GLN': 'Q',\n",
        "            'GLU': 'E',\n",
        "            'GLY': 'G',\n",
        "            'HIS': 'H',\n",
        "            'ILE': 'I',\n",
        "            'LEU': 'L',\n",
        "            'LYS': 'K',\n",
        "            'MET': 'M',\n",
        "            'PHE': 'F',\n",
        "            'PRO': 'P',\n",
        "            'SER': 'S',\n",
        "            'THR': 'T',\n",
        "            'TRP': 'W',\n",
        "            'TYR': 'Y',\n",
        "            'VAL': 'V'\n",
        "        }\n",
        "\n",
        "        if nome_residuo in dic_amnoacido:\n",
        "          sequencia += dic_amnoacido[nome_residuo]\n",
        "\n",
        "\n",
        "  with open(caminho_arq_fasta, 'w') as arq_fasta:\n",
        "     arq_fasta.write(f\">seq\\n{sequencia}\")\n",
        "\n",
        "caminho_arq_pdb = input(\"Digite o caminho do arquivo PDB de entrada: \")\n",
        "caminho_arq_fasta = input(\"Digite o caminho do arquivo FASTA de saída: \")\n",
        "\n",
        "le_pdb(caminho_arq_pdb, caminho_arq_fasta)\n",
        "\n"
      ]
    }
  ]
}