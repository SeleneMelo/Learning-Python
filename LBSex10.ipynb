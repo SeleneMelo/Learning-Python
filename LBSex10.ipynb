{
  "nbformat": 4,
  "nbformat_minor": 0,
  "metadata": {
    "colab": {
      "provenance": [],
      "authorship_tag": "ABX9TyNSBu1ffYMc5/A5zrtTxbu6",
      "include_colab_link": true
    },
    "kernelspec": {
      "name": "python3",
      "display_name": "Python 3"
    },
    "language_info": {
      "name": "python"
    }
  },
  "cells": [
    {
      "cell_type": "markdown",
      "metadata": {
        "id": "view-in-github",
        "colab_type": "text"
      },
      "source": [
        "<a href=\"https://colab.research.google.com/github/SeleneMelo/Learning-Python/blob/master/LBSex10.ipynb\" target=\"_parent\"><img src=\"https://colab.research.google.com/assets/colab-badge.svg\" alt=\"Open In Colab\"/></a>"
      ]
    },
    {
      "cell_type": "code",
      "execution_count": null,
      "metadata": {
        "id": "5L8vayFWf2O5"
      },
      "outputs": [],
      "source": [
        "def extrai_cadeiaA(input, output):\n",
        "  id_cadeia = 'A'\n",
        "\n",
        "  with open(input, 'r') as arq_pdb:\n",
        "    linha = arq_pdb.readlines()\n",
        "  \n",
        "  cadeia = []\n",
        "  for line in linha:\n",
        "    if line.starswith('ATOM') or line.startswith('HETATM'):\n",
        "      if line[21] == id_cadeia:\n",
        "        cadeia.append(line)\n",
        "\n",
        "  with open(output, 'w') as arq_pdb_cadeiaA:\n",
        "    arq_pdb_cadeiaA.write(cadeia)\n",
        "\n",
        "\n",
        "input = input(\"Digite o caminho do arquivo PDB de entrada: \")\n",
        "output = input(\"Digite o caminho do arquivo PDB de saída (cadeia A): \")\n",
        "\n",
        "extrai_cadeiaA(input, output)\n"
      ]
    }
  ]
}